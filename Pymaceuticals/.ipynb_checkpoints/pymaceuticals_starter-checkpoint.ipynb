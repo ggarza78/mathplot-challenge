{
 "cells": [
  {
   "cell_type": "markdown",
   "metadata": {},
   "source": [
    "## Observations and Insights "
   ]
  },
  {
   "cell_type": "markdown",
   "metadata": {},
   "source": []
  },
  {
   "cell_type": "code",
   "execution_count": 82,
   "metadata": {},
   "outputs": [
    {
     "name": "stdout",
     "output_type": "stream",
     "text": [
      "   index Mouse ID  Timepoint  Tumor Volume (mm3)  Metastatic Sites  \\\n",
      "0    113     a203          0           45.000000                 0   \n",
      "1    389     a203          5           48.508468                 0   \n",
      "2    598     a203         10           51.852437                 1   \n",
      "3    758     a203         15           52.777870                 1   \n",
      "4   1018     a203         20           55.173336                 1   \n",
      "5   1295     a203         25           56.793208                 1   \n",
      "6   1315     a203         30           59.523197                 1   \n",
      "7   1577     a203         35           61.931650                 2   \n",
      "8   1675     a203         40           63.593490                 2   \n",
      "9   1804     a203         45           67.973419                 2   \n",
      "\n",
      "  Drug Regimen     Sex  Age_months  Weight (g)  \n",
      "0    Infubinol  Female          20          23  \n",
      "1    Infubinol  Female          20          23  \n",
      "2    Infubinol  Female          20          23  \n",
      "3    Infubinol  Female          20          23  \n",
      "4    Infubinol  Female          20          23  \n",
      "5    Infubinol  Female          20          23  \n",
      "6    Infubinol  Female          20          23  \n",
      "7    Infubinol  Female          20          23  \n",
      "8    Infubinol  Female          20          23  \n",
      "9    Infubinol  Female          20          23  \n"
     ]
    }
   ],
   "source": [
    "# Dependencies and Setup\n",
    "import matplotlib.pyplot as plt\n",
    "import pandas as pd\n",
    "import scipy.stats as st\n",
    "\n",
    "# Study data files\n",
    "mouse_metadata_path = \"data/Mouse_metadata.csv\"\n",
    "study_results_path = \"data/Study_results.csv\"\n",
    "\n",
    "# Read the mouse data and the study results\n",
    "mouse_metadata = pd.read_csv(mouse_metadata_path)\n",
    "study_results = pd.read_csv(study_results_path)\n",
    "\n",
    "# Combine the data into a single dataset\n",
    "combined = study_results.merge( mouse_metadata, on=\"Mouse ID\", how='left')\n",
    "\n",
    "# Display the data table for preview\n",
    "combined = combined.sort_values(['Mouse ID', 'Timepoint'], ascending=[True, True])\n",
    "combined = combined.reset_index()\n",
    "print(combined.head(10))"
   ]
  },
  {
   "cell_type": "code",
   "execution_count": 83,
   "metadata": {},
   "outputs": [
    {
     "name": "stdout",
     "output_type": "stream",
     "text": [
      "The number of mice is : 249\n"
     ]
    }
   ],
   "source": [
    "# Checking the number of mice.\n",
    "number_of_mice = len(pd.unique(mouse_metadata['Mouse ID']))\n",
    "print(f\"The number of mice is : {str(number_of_mice)}\")"
   ]
  },
  {
   "cell_type": "code",
   "execution_count": 89,
   "metadata": {},
   "outputs": [
    {
     "name": "stdout",
     "output_type": "stream",
     "text": [
      "The mouse with duplicated information is: 1     and the Mouse ID is: ['g989']\n"
     ]
    }
   ],
   "source": [
    "# Getting the duplicate mice by ID number that shows up for Mouse ID and Timepoint. \n",
    "combined['duplicated'] = combined.duplicated(subset=['Mouse ID', 'Timepoint'], keep=False)\n",
    "combined_dup = combined[combined['duplicated'] == True]\n",
    "mice_with_duplicated_info = len(pd.unique(combined_dup['Mouse ID']))\n",
    "duplicated_mouse_id = pd.unique(combined_dup['Mouse ID'])\n",
    "print(f\"The mouse with duplicated information is: {mice_with_duplicated_info} \\\n",
    "    and the Mouse ID is: {duplicated_mouse_id}\")"
   ]
  },
  {
   "cell_type": "code",
   "execution_count": 85,
   "metadata": {},
   "outputs": [
    {
     "name": "stdout",
     "output_type": "stream",
     "text": [
      "   level_0  index Mouse ID  Timepoint  Tumor Volume (mm3)  Metastatic Sites  \\\n",
      "0      586    107     g989          0           45.000000                 0   \n",
      "1      587    137     g989          0           45.000000                 0   \n",
      "2      588    329     g989          5           48.786801                 0   \n",
      "3      589    360     g989          5           47.570392                 0   \n",
      "4      590    620     g989         10           51.745156                 0   \n",
      "5      591    681     g989         10           49.880528                 0   \n",
      "6      592    815     g989         15           51.325852                 1   \n",
      "7      593    869     g989         15           53.442020                 0   \n",
      "8      594    950     g989         20           55.326122                 1   \n",
      "9      595   1111     g989         20           54.657650                 1   \n",
      "\n",
      "  Drug Regimen     Sex  Age_months  Weight (g)  \n",
      "0     Propriva  Female          21          26  \n",
      "1     Propriva  Female          21          26  \n",
      "2     Propriva  Female          21          26  \n",
      "3     Propriva  Female          21          26  \n",
      "4     Propriva  Female          21          26  \n",
      "5     Propriva  Female          21          26  \n",
      "6     Propriva  Female          21          26  \n",
      "7     Propriva  Female          21          26  \n",
      "8     Propriva  Female          21          26  \n",
      "9     Propriva  Female          21          26  \n"
     ]
    }
   ],
   "source": [
    "# Optional: Get all the data for the duplicate mouse ID. \n",
    "combined_dup = combined_dup.drop(['duplicated'], axis=1)\n",
    "combined_dup = combined_dup.reset_index()\n",
    "print(combined_dup)"
   ]
  },
  {
   "cell_type": "code",
   "execution_count": 102,
   "metadata": {},
   "outputs": [
    {
     "name": "stdout",
     "output_type": "stream",
     "text": [
      "      index Mouse ID  Timepoint  Tumor Volume (mm3)  Metastatic Sites  \\\n",
      "0         0     a203          0           45.000000                 0   \n",
      "1         1     a203          5           48.508468                 0   \n",
      "2         2     a203         10           51.852437                 1   \n",
      "3         3     a203         15           52.777870                 1   \n",
      "4         4     a203         20           55.173336                 1   \n",
      "...     ...      ...        ...                 ...               ...   \n",
      "1875   1888     z969         25           63.145652                 2   \n",
      "1876   1889     z969         30           65.841013                 3   \n",
      "1877   1890     z969         35           69.176246                 4   \n",
      "1878   1891     z969         40           70.314904                 4   \n",
      "1879   1892     z969         45           73.867845                 4   \n",
      "\n",
      "     Drug Regimen     Sex  Age_months  Weight (g)  \n",
      "0       Infubinol  Female          20          23  \n",
      "1       Infubinol  Female          20          23  \n",
      "2       Infubinol  Female          20          23  \n",
      "3       Infubinol  Female          20          23  \n",
      "4       Infubinol  Female          20          23  \n",
      "...           ...     ...         ...         ...  \n",
      "1875     Naftisol    Male           9          30  \n",
      "1876     Naftisol    Male           9          30  \n",
      "1877     Naftisol    Male           9          30  \n",
      "1878     Naftisol    Male           9          30  \n",
      "1879     Naftisol    Male           9          30  \n",
      "\n",
      "[1880 rows x 9 columns]\n"
     ]
    }
   ],
   "source": [
    "# Create a clean DataFrame by dropping the duplicate mouse by its ID.\n",
    "combined_no_dup = combined[combined['duplicated'] == False]\n",
    "combined_no_dup = combined_no_dup[combined_no_dup['Mouse ID'] != duplicated_mouse_id[0]]\n",
    "combined_no_dup = combined_no_dup.drop(['duplicated','index'], axis=1)\n",
    "combined_no_dup = combined_no_dup.reset_index()\n",
    "print(combined_no_dup)"
   ]
  },
  {
   "cell_type": "code",
   "execution_count": 96,
   "metadata": {},
   "outputs": [
    {
     "name": "stdout",
     "output_type": "stream",
     "text": [
      "The number of mice is : 248\n"
     ]
    }
   ],
   "source": [
    "# Checking the number of mice in the clean DataFrame.\n",
    "number_of_mice_no_duplicated = len(pd.unique(combined_no_dup['Mouse ID']))\n",
    "print(f\"The number of mice is : {str(number_of_mice_no_duplicated)}\")"
   ]
  },
  {
   "cell_type": "markdown",
   "metadata": {},
   "source": [
    "## Summary Statistics"
   ]
  },
  {
   "cell_type": "code",
   "execution_count": 113,
   "metadata": {},
   "outputs": [
    {
     "name": "stdout",
     "output_type": "stream",
     "text": [
      "**** Summary Statistics by Regime: Mean ****\n",
      "                    index  Timepoint  Tumor Volume (mm3)  Metastatic Sites  \\\n",
      "Drug Regimen                                                                 \n",
      "Capomulin     1064.230435  21.565217           40.675741          0.713043   \n",
      "Ceftamin      1084.000000  19.747191           52.591172          1.179775   \n",
      "Infubinol      833.691011  18.174157           52.884795          0.960674   \n",
      "Ketapril       949.170213  19.707447           55.235638          1.297872   \n",
      "Naftisol      1078.881720  19.623656           54.331565          1.182796   \n",
      "\n",
      "              Age_months  Weight (g)  \n",
      "Drug Regimen                          \n",
      "Capomulin      13.456522   19.965217  \n",
      "Ceftamin       13.247191   27.398876  \n",
      "Infubinol      16.230337   27.196629  \n",
      "Ketapril       15.659574   27.861702  \n",
      "Naftisol       12.000000   27.166667  \n",
      "**** Summary Statistics by Regime: Variance ****\n",
      "                      index   Timepoint  Tumor Volume (mm3)  Metastatic Sites  \\\n",
      "Drug Regimen                                                                    \n",
      "Capomulin     236741.339681  206.928043           24.947764          0.720790   \n",
      "Ceftamin      296071.548023  204.031772           39.290177          1.402527   \n",
      "Infubinol     391684.644100  181.534470           43.128684          1.054942   \n",
      "Ketapril      225687.500284  196.839089           68.553577          1.942883   \n",
      "Naftisol      321721.791340  201.208951           66.173479          1.479919   \n",
      "\n",
      "              Age_months  Weight (g)  \n",
      "Drug Regimen                          \n",
      "Capomulin      59.620372    7.466034  \n",
      "Ceftamin       65.147591    2.501016  \n",
      "Infubinol      56.404272    4.769028  \n",
      "Ketapril       36.236432    3.392536  \n",
      "Naftisol       45.102703    2.247748  \n",
      "**** Summary Statistics by Regime: Standard Deviation ****\n",
      "                   index  Timepoint  Tumor Volume (mm3)  Metastatic Sites  \\\n",
      "Drug Regimen                                                                \n",
      "Capomulin     486.560726  14.384994            4.994774          0.848993   \n",
      "Ceftamin      544.124570  14.283969            6.268188          1.184283   \n",
      "Infubinol     625.847141  13.473473            6.567243          1.027104   \n",
      "Ketapril      475.065785  14.029935            8.279709          1.393873   \n",
      "Naftisol      567.205246  14.184814            8.134708          1.216519   \n",
      "\n",
      "              Age_months  Weight (g)  \n",
      "Drug Regimen                          \n",
      "Capomulin       7.721423    2.732404  \n",
      "Ceftamin        8.071406    1.581460  \n",
      "Infubinol       7.510278    2.183810  \n",
      "Ketapril        6.019670    1.841884  \n",
      "Naftisol        6.715855    1.499249  \n",
      "**** Summary Statistics by Regime: Standard Error of the Mean ****\n",
      "              Age_months  Metastatic Sites  Mouse ID  Sex  Timepoint  \\\n",
      "Drug Regimen                                                           \n",
      "Capomulin       0.509136          0.055981       NaN  NaN   0.948518   \n",
      "Ceftamin        0.604977          0.088766       NaN  NaN   1.070629   \n",
      "Infubinol       0.562919          0.076985       NaN  NaN   1.009879   \n",
      "Ketapril        0.439030          0.101659       NaN  NaN   1.023238   \n",
      "Naftisol        0.492430          0.089200       NaN  NaN   1.040081   \n",
      "\n",
      "              Tumor Volume (mm3)  Weight (g)      index  \n",
      "Drug Regimen                                             \n",
      "Capomulin               0.329346    0.180169  32.082864  \n",
      "Ceftamin                0.469821    0.118535  40.783861  \n",
      "Infubinol               0.492236    0.163684  46.909226  \n",
      "Ketapril                0.603860    0.134333  34.647733  \n",
      "Naftisol                0.596466    0.109930  41.589506  \n"
     ]
    }
   ],
   "source": [
    "# Generate a summary statistics table of mean, median, variance, standard deviation, and SEM of the tumor volume for each regimen\n",
    "\n",
    "# Use groupby and summary statistical methods to calculate the following properties of each drug regimen: \n",
    "# mean, median, variance, standard deviation, and SEM of the tumor volume. \n",
    "summary_mean = combined_no_dup.groupby(['Drug Regimen']).mean()\n",
    "summary_var = combined_no_dup.groupby(['Drug Regimen']).var()\n",
    "summary_std = combined_no_dup.groupby(['Drug Regimen']).std()\n",
    "summary_sem = combined_no_dup.groupby(['Drug Regimen']).sem(ddof=1)\n",
    "print(\" \")\n",
    "print(\"**** Summary Statistics by Regime: Mean ****\")\n",
    "print(summary_mean.head())\n",
    "print(\" \")\n",
    "print(\"**** Summary Statistics by Regime: Variance ****\")\n",
    "print(summary_var.head())\n",
    "print(\" \")\n",
    "print(\"**** Summary Statistics by Regime: Standard Deviation ****\")\n",
    "print(summary_std.head())\n",
    "print(\" \")\n",
    "print(\"**** Summary Statistics by Regime: Standard Error of the Mean ****\")\n",
    "print(summary_sem.head())\n",
    "\n",
    "# Assemble the resulting series into a single summary dataframe.\n",
    "\n"
   ]
  },
  {
   "cell_type": "code",
   "execution_count": 8,
   "metadata": {},
   "outputs": [],
   "source": [
    "# Generate a summary statistics table of mean, median, variance, standard deviation, and SEM of the tumor volume for each regimen\n",
    "\n",
    "# Using the aggregation method, produce the same summary statistics in a single line\n"
   ]
  },
  {
   "cell_type": "markdown",
   "metadata": {},
   "source": [
    "## Bar and Pie Charts"
   ]
  },
  {
   "cell_type": "code",
   "execution_count": 9,
   "metadata": {},
   "outputs": [],
   "source": [
    "# Generate a bar plot showing the total number of measurements taken on each drug regimen using pandas.\n",
    "\n"
   ]
  },
  {
   "cell_type": "code",
   "execution_count": 10,
   "metadata": {},
   "outputs": [],
   "source": [
    "# Generate a bar plot showing the total number of measurements taken on each drug regimen using pyplot.\n",
    "\n"
   ]
  },
  {
   "cell_type": "code",
   "execution_count": 11,
   "metadata": {},
   "outputs": [],
   "source": [
    "# Generate a pie plot showing the distribution of female versus male mice using pandas\n",
    "\n"
   ]
  },
  {
   "cell_type": "code",
   "execution_count": 12,
   "metadata": {},
   "outputs": [],
   "source": [
    "# Generate a pie plot showing the distribution of female versus male mice using pyplot\n",
    "\n"
   ]
  },
  {
   "cell_type": "markdown",
   "metadata": {},
   "source": [
    "## Quartiles, Outliers and Boxplots"
   ]
  },
  {
   "cell_type": "code",
   "execution_count": 13,
   "metadata": {},
   "outputs": [],
   "source": [
    "# Calculate the final tumor volume of each mouse across four of the treatment regimens:  \n",
    "# Capomulin, Ramicane, Infubinol, and Ceftamin\n",
    "\n",
    "# Start by getting the last (greatest) timepoint for each mouse\n",
    "\n",
    "\n",
    "# Merge this group df with the original dataframe to get the tumor volume at the last timepoint\n"
   ]
  },
  {
   "cell_type": "code",
   "execution_count": 14,
   "metadata": {},
   "outputs": [],
   "source": [
    "# Put treatments into a list for for loop (and later for plot labels)\n",
    "\n",
    "\n",
    "# Create empty list to fill with tumor vol data (for plotting)\n",
    "\n",
    "\n",
    "# Calculate the IQR and quantitatively determine if there are any potential outliers. \n",
    "\n",
    "    \n",
    "    # Locate the rows which contain mice on each drug and get the tumor volumes\n",
    "    \n",
    "    \n",
    "    # add subset \n",
    "    \n",
    "    \n",
    "    # Determine outliers using upper and lower bounds\n",
    "    "
   ]
  },
  {
   "cell_type": "code",
   "execution_count": 15,
   "metadata": {},
   "outputs": [],
   "source": [
    "# Generate a box plot of the final tumor volume of each mouse across four regimens of interest\n"
   ]
  },
  {
   "cell_type": "markdown",
   "metadata": {},
   "source": [
    "## Line and Scatter Plots"
   ]
  },
  {
   "cell_type": "code",
   "execution_count": 16,
   "metadata": {},
   "outputs": [],
   "source": [
    "# Generate a line plot of tumor volume vs. time point for a mouse treated with Capomulin\n"
   ]
  },
  {
   "cell_type": "code",
   "execution_count": 17,
   "metadata": {},
   "outputs": [],
   "source": [
    "# Generate a scatter plot of average tumor volume vs. mouse weight for the Capomulin regimen\n"
   ]
  },
  {
   "cell_type": "markdown",
   "metadata": {},
   "source": [
    "## Correlation and Regression"
   ]
  },
  {
   "cell_type": "code",
   "execution_count": 18,
   "metadata": {},
   "outputs": [],
   "source": [
    "# Calculate the correlation coefficient and linear regression model \n",
    "# for mouse weight and average tumor volume for the Capomulin regimen\n"
   ]
  },
  {
   "cell_type": "code",
   "execution_count": null,
   "metadata": {},
   "outputs": [],
   "source": []
  }
 ],
 "metadata": {
  "anaconda-cloud": {},
  "kernelspec": {
   "display_name": "Python 3",
   "language": "python",
   "name": "python3"
  },
  "language_info": {
   "codemirror_mode": {
    "name": "ipython",
    "version": 3
   },
   "file_extension": ".py",
   "mimetype": "text/x-python",
   "name": "python",
   "nbconvert_exporter": "python",
   "pygments_lexer": "ipython3",
   "version": "3.6.10"
  }
 },
 "nbformat": 4,
 "nbformat_minor": 4
}
