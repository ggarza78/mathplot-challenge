{
 "cells": [
  {
   "cell_type": "markdown",
   "metadata": {},
   "source": [
    "## Observations and Insights "
   ]
  },
  {
   "cell_type": "markdown",
   "metadata": {},
   "source": []
  },
  {
   "cell_type": "code",
   "execution_count": 110,
   "metadata": {},
   "outputs": [
    {
     "name": "stdout",
     "output_type": "stream",
     "text": [
      "  Mouse ID  Timepoint  Tumor Volume (mm3)  Metastatic Sites Drug Regimen  \\\n",
      "0     a203          0           45.000000                 0    Infubinol   \n",
      "1     a203          5           48.508468                 0    Infubinol   \n",
      "2     a203         10           51.852437                 1    Infubinol   \n",
      "3     a203         15           52.777870                 1    Infubinol   \n",
      "4     a203         20           55.173336                 1    Infubinol   \n",
      "5     a203         25           56.793208                 1    Infubinol   \n",
      "6     a203         30           59.523197                 1    Infubinol   \n",
      "7     a203         35           61.931650                 2    Infubinol   \n",
      "8     a203         40           63.593490                 2    Infubinol   \n",
      "9     a203         45           67.973419                 2    Infubinol   \n",
      "\n",
      "      Sex  Age_months  Weight (g)  \n",
      "0  Female          20          23  \n",
      "1  Female          20          23  \n",
      "2  Female          20          23  \n",
      "3  Female          20          23  \n",
      "4  Female          20          23  \n",
      "5  Female          20          23  \n",
      "6  Female          20          23  \n",
      "7  Female          20          23  \n",
      "8  Female          20          23  \n",
      "9  Female          20          23  \n"
     ]
    }
   ],
   "source": [
    "# Dependencies and Setup\n",
    "import matplotlib.pyplot as plt\n",
    "import pandas as pd\n",
    "import scipy.stats as st\n",
    "import numpy as np\n",
    "\n",
    "# Study data files\n",
    "mouse_metadata_path = \"data/Mouse_metadata.csv\"\n",
    "study_results_path = \"data/Study_results.csv\"\n",
    "\n",
    "# Read the mouse data and the study results\n",
    "mouse_metadata = pd.read_csv(mouse_metadata_path)\n",
    "study_results = pd.read_csv(study_results_path)\n",
    "\n",
    "# Combine the data into a single dataset\n",
    "combined = study_results.merge( mouse_metadata, on=\"Mouse ID\", how='left')\n",
    "\n",
    "# Display the data table for preview\n",
    "combined = combined.sort_values(['Mouse ID', 'Timepoint'], ascending=[True, True])\n",
    "combined = combined.reset_index()\n",
    "combined = combined.drop(combined.columns[0], axis=1)\n",
    "print(combined.head(10))"
   ]
  },
  {
   "cell_type": "code",
   "execution_count": 111,
   "metadata": {},
   "outputs": [
    {
     "name": "stdout",
     "output_type": "stream",
     "text": [
      "The number of mice is : 249\n"
     ]
    }
   ],
   "source": [
    "# Checking the number of mice.\n",
    "number_of_mice = len(pd.unique(mouse_metadata['Mouse ID']))\n",
    "print(f\"The number of mice is : {str(number_of_mice)}\")"
   ]
  },
  {
   "cell_type": "code",
   "execution_count": 112,
   "metadata": {},
   "outputs": [
    {
     "name": "stdout",
     "output_type": "stream",
     "text": [
      "The mouse with duplicated information is: 1     and the Mouse ID is: ['g989']\n"
     ]
    }
   ],
   "source": [
    "# Getting the duplicate mice by ID number that shows up for Mouse ID and Timepoint. \n",
    "combined['duplicated'] = combined.duplicated(subset=['Mouse ID', 'Timepoint'], keep=False)\n",
    "combined_dup = combined[combined['duplicated'] == True]\n",
    "mice_with_duplicated_info = len(pd.unique(combined_dup['Mouse ID']))\n",
    "duplicated_mouse_id = pd.unique(combined_dup['Mouse ID'])\n",
    "print(f\"The mouse with duplicated information is: {mice_with_duplicated_info} \\\n",
    "    and the Mouse ID is: {duplicated_mouse_id}\")"
   ]
  },
  {
   "cell_type": "code",
   "execution_count": 113,
   "metadata": {},
   "outputs": [
    {
     "name": "stdout",
     "output_type": "stream",
     "text": [
      "  Mouse ID  Timepoint  Tumor Volume (mm3)  Metastatic Sites Drug Regimen  \\\n",
      "0     g989          0           45.000000                 0     Propriva   \n",
      "1     g989          0           45.000000                 0     Propriva   \n",
      "2     g989          5           48.786801                 0     Propriva   \n",
      "3     g989          5           47.570392                 0     Propriva   \n",
      "4     g989         10           51.745156                 0     Propriva   \n",
      "5     g989         10           49.880528                 0     Propriva   \n",
      "6     g989         15           51.325852                 1     Propriva   \n",
      "7     g989         15           53.442020                 0     Propriva   \n",
      "8     g989         20           55.326122                 1     Propriva   \n",
      "9     g989         20           54.657650                 1     Propriva   \n",
      "\n",
      "      Sex  Age_months  Weight (g)  \n",
      "0  Female          21          26  \n",
      "1  Female          21          26  \n",
      "2  Female          21          26  \n",
      "3  Female          21          26  \n",
      "4  Female          21          26  \n",
      "5  Female          21          26  \n",
      "6  Female          21          26  \n",
      "7  Female          21          26  \n",
      "8  Female          21          26  \n",
      "9  Female          21          26  \n"
     ]
    }
   ],
   "source": [
    "# Optional: Get all the data for the duplicate mouse ID. \n",
    "combined_dup = combined_dup.drop(['duplicated'], axis=1)\n",
    "combined_dup = combined_dup.reset_index()\n",
    "combined_dup = combined_dup.drop(combined_dup.columns[0], axis=1)\n",
    "print(combined_dup)"
   ]
  },
  {
   "cell_type": "code",
   "execution_count": 114,
   "metadata": {},
   "outputs": [
    {
     "name": "stdout",
     "output_type": "stream",
     "text": [
      "     Mouse ID  Timepoint  Tumor Volume (mm3)  Metastatic Sites Drug Regimen  \\\n",
      "0        a203          0           45.000000                 0    Infubinol   \n",
      "1        a203          5           48.508468                 0    Infubinol   \n",
      "2        a203         10           51.852437                 1    Infubinol   \n",
      "3        a203         15           52.777870                 1    Infubinol   \n",
      "4        a203         20           55.173336                 1    Infubinol   \n",
      "...       ...        ...                 ...               ...          ...   \n",
      "1875     z969         25           63.145652                 2     Naftisol   \n",
      "1876     z969         30           65.841013                 3     Naftisol   \n",
      "1877     z969         35           69.176246                 4     Naftisol   \n",
      "1878     z969         40           70.314904                 4     Naftisol   \n",
      "1879     z969         45           73.867845                 4     Naftisol   \n",
      "\n",
      "         Sex  Age_months  Weight (g)  \n",
      "0     Female          20          23  \n",
      "1     Female          20          23  \n",
      "2     Female          20          23  \n",
      "3     Female          20          23  \n",
      "4     Female          20          23  \n",
      "...      ...         ...         ...  \n",
      "1875    Male           9          30  \n",
      "1876    Male           9          30  \n",
      "1877    Male           9          30  \n",
      "1878    Male           9          30  \n",
      "1879    Male           9          30  \n",
      "\n",
      "[1880 rows x 8 columns]\n"
     ]
    }
   ],
   "source": [
    "# Create a clean DataFrame by dropping the duplicate mouse by its ID.\n",
    "combined_no_dup = combined[combined['duplicated'] == False]\n",
    "combined_no_dup = combined_no_dup[combined_no_dup['Mouse ID'] != duplicated_mouse_id[0]]\n",
    "combined_no_dup = combined_no_dup.drop(['duplicated'], axis=1)\n",
    "combined_no_dup = combined_no_dup.reset_index()\n",
    "combined_no_dup = combined_no_dup.drop(combined_no_dup.columns[0], axis=1)\n",
    "print(combined_no_dup)"
   ]
  },
  {
   "cell_type": "code",
   "execution_count": 115,
   "metadata": {},
   "outputs": [
    {
     "name": "stdout",
     "output_type": "stream",
     "text": [
      "The number of mice is : 248\n"
     ]
    }
   ],
   "source": [
    "# Checking the number of mice in the clean DataFrame.\n",
    "number_of_mice_no_duplicated = len(pd.unique(combined_no_dup['Mouse ID']))\n",
    "print(f\"The number of mice is : {str(number_of_mice_no_duplicated)}\")"
   ]
  },
  {
   "cell_type": "markdown",
   "metadata": {},
   "source": [
    "## Summary Statistics"
   ]
  },
  {
   "cell_type": "code",
   "execution_count": 116,
   "metadata": {},
   "outputs": [
    {
     "data": {
      "text/html": [
       "<div>\n",
       "<style scoped>\n",
       "    .dataframe tbody tr th:only-of-type {\n",
       "        vertical-align: middle;\n",
       "    }\n",
       "\n",
       "    .dataframe tbody tr th {\n",
       "        vertical-align: top;\n",
       "    }\n",
       "\n",
       "    .dataframe thead th {\n",
       "        text-align: right;\n",
       "    }\n",
       "</style>\n",
       "<table border=\"1\" class=\"dataframe\">\n",
       "  <thead>\n",
       "    <tr style=\"text-align: right;\">\n",
       "      <th></th>\n",
       "      <th>TV (mm3) mean</th>\n",
       "      <th>TV (mm3) median</th>\n",
       "      <th>TV (mm3) Variance</th>\n",
       "      <th>TV (mm3) StDev</th>\n",
       "      <th>TV (mm3) SEM</th>\n",
       "    </tr>\n",
       "    <tr>\n",
       "      <th>Drug Regimen</th>\n",
       "      <th></th>\n",
       "      <th></th>\n",
       "      <th></th>\n",
       "      <th></th>\n",
       "      <th></th>\n",
       "    </tr>\n",
       "  </thead>\n",
       "  <tbody>\n",
       "    <tr>\n",
       "      <th>Capomulin</th>\n",
       "      <td>40.675741</td>\n",
       "      <td>41.557809</td>\n",
       "      <td>24.947764</td>\n",
       "      <td>4.994774</td>\n",
       "      <td>0.329346</td>\n",
       "    </tr>\n",
       "    <tr>\n",
       "      <th>Ceftamin</th>\n",
       "      <td>52.591172</td>\n",
       "      <td>51.776157</td>\n",
       "      <td>39.290177</td>\n",
       "      <td>6.268188</td>\n",
       "      <td>0.469821</td>\n",
       "    </tr>\n",
       "    <tr>\n",
       "      <th>Infubinol</th>\n",
       "      <td>52.884795</td>\n",
       "      <td>51.820584</td>\n",
       "      <td>43.128684</td>\n",
       "      <td>6.567243</td>\n",
       "      <td>0.492236</td>\n",
       "    </tr>\n",
       "    <tr>\n",
       "      <th>Ketapril</th>\n",
       "      <td>55.235638</td>\n",
       "      <td>53.698743</td>\n",
       "      <td>68.553577</td>\n",
       "      <td>8.279709</td>\n",
       "      <td>0.603860</td>\n",
       "    </tr>\n",
       "    <tr>\n",
       "      <th>Naftisol</th>\n",
       "      <td>54.331565</td>\n",
       "      <td>52.509285</td>\n",
       "      <td>66.173479</td>\n",
       "      <td>8.134708</td>\n",
       "      <td>0.596466</td>\n",
       "    </tr>\n",
       "    <tr>\n",
       "      <th>Placebo</th>\n",
       "      <td>54.033581</td>\n",
       "      <td>52.288934</td>\n",
       "      <td>61.168083</td>\n",
       "      <td>7.821003</td>\n",
       "      <td>0.581331</td>\n",
       "    </tr>\n",
       "    <tr>\n",
       "      <th>Propriva</th>\n",
       "      <td>52.320930</td>\n",
       "      <td>50.446266</td>\n",
       "      <td>43.852013</td>\n",
       "      <td>6.622085</td>\n",
       "      <td>0.544332</td>\n",
       "    </tr>\n",
       "    <tr>\n",
       "      <th>Ramicane</th>\n",
       "      <td>40.216745</td>\n",
       "      <td>40.673236</td>\n",
       "      <td>23.486704</td>\n",
       "      <td>4.846308</td>\n",
       "      <td>0.320955</td>\n",
       "    </tr>\n",
       "    <tr>\n",
       "      <th>Stelasyn</th>\n",
       "      <td>54.233149</td>\n",
       "      <td>52.431737</td>\n",
       "      <td>59.450562</td>\n",
       "      <td>7.710419</td>\n",
       "      <td>0.573111</td>\n",
       "    </tr>\n",
       "    <tr>\n",
       "      <th>Zoniferol</th>\n",
       "      <td>53.236507</td>\n",
       "      <td>51.818479</td>\n",
       "      <td>48.533355</td>\n",
       "      <td>6.966589</td>\n",
       "      <td>0.516398</td>\n",
       "    </tr>\n",
       "  </tbody>\n",
       "</table>\n",
       "</div>"
      ],
      "text/plain": [
       "              TV (mm3) mean  TV (mm3) median  TV (mm3) Variance  \\\n",
       "Drug Regimen                                                      \n",
       "Capomulin         40.675741        41.557809          24.947764   \n",
       "Ceftamin          52.591172        51.776157          39.290177   \n",
       "Infubinol         52.884795        51.820584          43.128684   \n",
       "Ketapril          55.235638        53.698743          68.553577   \n",
       "Naftisol          54.331565        52.509285          66.173479   \n",
       "Placebo           54.033581        52.288934          61.168083   \n",
       "Propriva          52.320930        50.446266          43.852013   \n",
       "Ramicane          40.216745        40.673236          23.486704   \n",
       "Stelasyn          54.233149        52.431737          59.450562   \n",
       "Zoniferol         53.236507        51.818479          48.533355   \n",
       "\n",
       "              TV (mm3) StDev  TV (mm3) SEM  \n",
       "Drug Regimen                                \n",
       "Capomulin           4.994774      0.329346  \n",
       "Ceftamin            6.268188      0.469821  \n",
       "Infubinol           6.567243      0.492236  \n",
       "Ketapril            8.279709      0.603860  \n",
       "Naftisol            8.134708      0.596466  \n",
       "Placebo             7.821003      0.581331  \n",
       "Propriva            6.622085      0.544332  \n",
       "Ramicane            4.846308      0.320955  \n",
       "Stelasyn            7.710419      0.573111  \n",
       "Zoniferol           6.966589      0.516398  "
      ]
     },
     "execution_count": 116,
     "metadata": {},
     "output_type": "execute_result"
    }
   ],
   "source": [
    "# Generate a summary statistics table of mean, median, variance, standard deviation, and SEM of the tumor volume for each regimen\n",
    "\n",
    "# Use groupby and summary statistical methods to calculate the following properties of each drug regimen: \n",
    "# mean, median, variance, standard deviation, and SEM of the tumor volume. \n",
    "#df = df.drop(df.columns[[0, 1, 3]], axis=1)\n",
    "combined_no_dup = combined_no_dup.drop(combined_no_dup.columns[0], axis=1)\n",
    "summary_mean = combined_no_dup.groupby(['Drug Regimen']).mean()\n",
    "summary_median = combined_no_dup.groupby(['Drug Regimen']).median()\n",
    "summary_var = combined_no_dup.groupby(['Drug Regimen']).var()\n",
    "summary_std = combined_no_dup.groupby(['Drug Regimen']).std()\n",
    "summary_sem = combined_no_dup.groupby(['Drug Regimen']).sem(ddof=1)\n",
    "\n",
    "\n",
    "# Assemble the resulting series into a single summary dataframe.\n",
    "summary_statistics = {\n",
    "    'TV (mm3) mean': summary_mean['Tumor Volume (mm3)'],\n",
    "    'TV (mm3) median': summary_median['Tumor Volume (mm3)'],\n",
    "    'TV (mm3) Variance': summary_var['Tumor Volume (mm3)'],\n",
    "    'TV (mm3) StDev': summary_std['Tumor Volume (mm3)'],\n",
    "    'TV (mm3) SEM': summary_sem['Tumor Volume (mm3)']\n",
    "}\n",
    "summary_statistics_df = pd.DataFrame(summary_statistics)\n",
    "summary_statistics_df"
   ]
  },
  {
   "cell_type": "code",
   "execution_count": 117,
   "metadata": {},
   "outputs": [
    {
     "name": "stdout",
     "output_type": "stream",
     "text": [
      " \n",
      "            *****    Tumor Volume (mm3)    *****\n",
      " \n",
      "                   mean     median        var       std       sem\n",
      "Drug Regimen                                                     \n",
      "Capomulin     40.675741  41.557809  24.947764  4.994774  0.329346\n",
      "Ceftamin      52.591172  51.776157  39.290177  6.268188  0.469821\n",
      "Infubinol     52.884795  51.820584  43.128684  6.567243  0.492236\n",
      "Ketapril      55.235638  53.698743  68.553577  8.279709  0.603860\n",
      "Naftisol      54.331565  52.509285  66.173479  8.134708  0.596466\n",
      "Placebo       54.033581  52.288934  61.168083  7.821003  0.581331\n",
      "Propriva      52.320930  50.446266  43.852013  6.622085  0.544332\n",
      "Ramicane      40.216745  40.673236  23.486704  4.846308  0.320955\n",
      "Stelasyn      54.233149  52.431737  59.450562  7.710419  0.573111\n",
      "Zoniferol     53.236507  51.818479  48.533355  6.966589  0.516398\n"
     ]
    }
   ],
   "source": [
    "# Generate a summary statistics table of mean, median, variance, standard deviation, and SEM of the tumor volume for each regimen\n",
    "\n",
    "# Using the aggregation method, produce the same summary statistics in a single line\n",
    "summary_agg = combined_no_dup.groupby('Drug Regimen')['Tumor Volume (mm3)'].agg(\n",
    "    [\n",
    "        np.mean,\n",
    "        np.median,\n",
    "        np.var,\n",
    "        np.std,\n",
    "        st.sem\n",
    "    ]\n",
    ")\n",
    "print(' ')\n",
    "print('            *****    Tumor Volume (mm3)    *****')\n",
    "print(' ')\n",
    "print(summary_agg)"
   ]
  },
  {
   "cell_type": "markdown",
   "metadata": {},
   "source": [
    "## Bar and Pie Charts"
   ]
  },
  {
   "cell_type": "code",
   "execution_count": 118,
   "metadata": {},
   "outputs": [
    {
     "data": {
      "text/plain": [
       "<matplotlib.axes._subplots.AxesSubplot at 0x22957ea2f28>"
      ]
     },
     "execution_count": 118,
     "metadata": {},
     "output_type": "execute_result"
    },
    {
     "data": {
      "image/png": "[encoded data removed]",
      "text/plain": [
       "<Figure size 432x288 with 1 Axes>"
      ]
     },
     "metadata": {
      "needs_background": "light"
     },
     "output_type": "display_data"
    }
   ],
   "source": [
    "# Generate a bar plot showing the total number of measurements taken on each drug regimen using pandas.\n",
    "measurements_taken = combined_no_dup[\"Drug Regimen\"].value_counts()\n",
    "measurements_taken.plot.bar()\n"
   ]
  },
  {
   "cell_type": "code",
   "execution_count": 119,
   "metadata": {},
   "outputs": [
    {
     "data": {
      "text/plain": [
       "([<matplotlib.patches.Wedge at 0x2295700d400>,\n",
       "  <matplotlib.patches.Wedge at 0x2295700d0b8>,\n",
       "  <matplotlib.patches.Wedge at 0x2295721fda0>,\n",
       "  <matplotlib.patches.Wedge at 0x229579659e8>,\n",
       "  <matplotlib.patches.Wedge at 0x2295797d080>,\n",
       "  <matplotlib.patches.Wedge at 0x22956fe4eb8>,\n",
       "  <matplotlib.patches.Wedge at 0x22956fe4d68>,\n",
       "  <matplotlib.patches.Wedge at 0x22956f4fba8>,\n",
       "  <matplotlib.patches.Wedge at 0x22957305e10>,\n",
       "  <matplotlib.patches.Wedge at 0x229571a1898>],\n",
       " [Text(2.5493728737528576, 1.031114906580783, 'Capomulin'),\n",
       "  Text(1.1241204844450043, 2.509751608516494, 'Ramicane'),\n",
       "  Text(-0.7442495365816632, 2.6473746669668765, 'Ketapril'),\n",
       "  Text(-2.1524902601054086, 1.711515609087849, 'Naftisol'),\n",
       "  Text(-2.7455626080815136, 0.1561600624508023, 'Zoniferol'),\n",
       "  Text(-2.3447604654267113, -1.4368710310156276, 'Stelasyn'),\n",
       "  Text(-1.1115245887896916, -2.5153554596748164, 'Placebo'),\n",
       "  Text(0.5026537760325527, -2.7036714263090875, 'Ceftamin'),\n",
       "  Text(1.9315025382425604, -1.9574978786099737, 'Infubinol'),\n",
       "  Text(2.666325071348696, -0.6732091902947935, 'Propriva')],\n",
       " [Text(1.3905670220470132, 0.5624263126804271, '12.23%  (230)'),\n",
       "  Text(0.6131566278790933, 1.3689554228271785, '12.13%  (228)'),\n",
       "  Text(-0.40595429268090716, 1.4440225456182962, '10.00%  (188)'),\n",
       "  Text(-1.1740855964211319, 0.9335539685933723, '9.89%  (186)'),\n",
       "  Text(-1.4975796044080982, 0.0851782158822558, '9.68%  (182)'),\n",
       "  Text(-1.2789602538691152, -0.7837478350994334, '9.63%  (181)'),\n",
       "  Text(-0.6062861393398318, -1.3720120689135362, '9.63%  (181)'),\n",
       "  Text(0.27417478692684694, -1.4747298688958659, '9.47%  (178)'),\n",
       "  Text(1.0535468390413965, -1.0677261156054403, '9.47%  (178)'),\n",
       "  Text(1.4543591298265615, -0.3672050128880692, '7.87%  (148)')])"
      ]
     },
     "execution_count": 119,
     "metadata": {},
     "output_type": "execute_result"
    },
    {
     "data": {
      "image/png": "[encoded data removed]",
      "text/plain": [
       "<Figure size 432x288 with 1 Axes>"
      ]
     },
     "metadata": {},
     "output_type": "display_data"
    }
   ],
   "source": [
    "# Generate a bar plot showing the total number of measurements taken on each drug regimen using pyplot.\n",
    "labels = measurements_taken.index.tolist()\n",
    "measurements = measurements_taken.tolist()\n",
    "def make_autopct(values):\n",
    "    def my_autopct(pct):\n",
    "        total = sum(values)\n",
    "        val = int(round(pct*total/100.0))\n",
    "        return '{p:.2f}%  ({v:d})'.format(p=pct,v=val)\n",
    "    return my_autopct\n",
    "plt.pie(measurements,labels=labels, autopct=make_autopct(measurements), shadow=True, radius= 2.5)"
   ]
  },
  {
   "cell_type": "code",
   "execution_count": 120,
   "metadata": {},
   "outputs": [
    {
     "data": {
      "text/plain": [
       "<matplotlib.axes._subplots.AxesSubplot at 0x22959449898>"
      ]
     },
     "execution_count": 120,
     "metadata": {},
     "output_type": "execute_result"
    },
    {
     "data": {
      "image/png": "[encoded data removed]",
      "text/plain": [
       "<Figure size 432x288 with 1 Axes>"
      ]
     },
     "metadata": {},
     "output_type": "display_data"
    }
   ],
   "source": [
    "# Generate a pie plot showing the distribution of female versus male mice using pandas\n",
    "mice_sex = combined_no_dup[\"Sex\"].value_counts()\n",
    "\n",
    "mice_sex.plot(kind='pie',autopct='%1.1f%%')"
   ]
  },
  {
   "cell_type": "code",
   "execution_count": 127,
   "metadata": {},
   "outputs": [
    {
     "data": {
      "text/plain": [
       "([<matplotlib.patches.Wedge at 0x229599ec438>,\n",
       "  <matplotlib.patches.Wedge at 0x229599ece80>],\n",
       " [Text(-0.03308201408261547, 1.0995024239828841, 'Male'),\n",
       "  Text(0.033082014082615095, -1.0995024239828841, 'Female')],\n",
       " [Text(-0.01804473495415389, 0.5997285948997549, '51.0%'),\n",
       "  Text(0.018044734954153686, -0.5997285948997549, '49.0%')])"
      ]
     },
     "execution_count": 127,
     "metadata": {},
     "output_type": "execute_result"
    },
    {
     "data": {
      "image/png": "[encoded data removed]",
      "text/plain": [
       "<Figure size 432x288 with 1 Axes>"
      ]
     },
     "metadata": {},
     "output_type": "display_data"
    }
   ],
   "source": [
    "# Generate a pie plot showing the distribution of female versus male mice using pyplot\n",
    "sex_labels = mice_sex.index.tolist()\n",
    "sex_count = mice_sex.tolist()\n",
    "plt.pie(sex_count, labels = sex_labels, autopct=\"%1.1f%%\", shadow=True )\n"
   ]
  },
  {
   "cell_type": "markdown",
   "metadata": {},
   "source": [
    "## Quartiles, Outliers and Boxplots"
   ]
  },
  {
   "cell_type": "code",
   "execution_count": 13,
   "metadata": {},
   "outputs": [],
   "source": [
    "# Calculate the final tumor volume of each mouse across four of the treatment regimens:  \n",
    "# Capomulin, Ramicane, Infubinol, and Ceftamin\n",
    "\n",
    "# Start by getting the last (greatest) timepoint for each mouse\n",
    "\n",
    "\n",
    "# Merge this group df with the original dataframe to get the tumor volume at the last timepoint\n"
   ]
  },
  {
   "cell_type": "code",
   "execution_count": 14,
   "metadata": {},
   "outputs": [],
   "source": [
    "# Put treatments into a list for for loop (and later for plot labels)\n",
    "\n",
    "\n",
    "# Create empty list to fill with tumor vol data (for plotting)\n",
    "\n",
    "\n",
    "# Calculate the IQR and quantitatively determine if there are any potential outliers. \n",
    "\n",
    "    \n",
    "    # Locate the rows which contain mice on each drug and get the tumor volumes\n",
    "    \n",
    "    \n",
    "    # add subset \n",
    "    \n",
    "    \n",
    "    # Determine outliers using upper and lower bounds\n",
    "    "
   ]
  },
  {
   "cell_type": "code",
   "execution_count": 15,
   "metadata": {},
   "outputs": [],
   "source": [
    "# Generate a box plot of the final tumor volume of each mouse across four regimens of interest\n"
   ]
  },
  {
   "cell_type": "markdown",
   "metadata": {},
   "source": [
    "## Line and Scatter Plots"
   ]
  },
  {
   "cell_type": "code",
   "execution_count": 16,
   "metadata": {},
   "outputs": [],
   "source": [
    "# Generate a line plot of tumor volume vs. time point for a mouse treated with Capomulin\n"
   ]
  },
  {
   "cell_type": "code",
   "execution_count": 17,
   "metadata": {},
   "outputs": [],
   "source": [
    "# Generate a scatter plot of average tumor volume vs. mouse weight for the Capomulin regimen\n"
   ]
  },
  {
   "cell_type": "markdown",
   "metadata": {},
   "source": [
    "## Correlation and Regression"
   ]
  },
  {
   "cell_type": "code",
   "execution_count": 18,
   "metadata": {},
   "outputs": [],
   "source": [
    "# Calculate the correlation coefficient and linear regression model \n",
    "# for mouse weight and average tumor volume for the Capomulin regimen\n"
   ]
  },
  {
   "cell_type": "code",
   "execution_count": null,
   "metadata": {},
   "outputs": [],
   "source": []
  }
 ],
 "metadata": {
  "anaconda-cloud": {},
  "kernelspec": {
   "display_name": "Python 3",
   "language": "python",
   "name": "python3"
  },
  "language_info": {
   "codemirror_mode": {
    "name": "ipython",
    "version": 3
   },
   "file_extension": ".py",
   "mimetype": "text/x-python",
   "name": "python",
   "nbconvert_exporter": "python",
   "pygments_lexer": "ipython3",
   "version": "3.6.10"
  }
 },
 "nbformat": 4,
 "nbformat_minor": 4
}
